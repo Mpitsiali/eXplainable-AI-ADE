{
  "nbformat": 4,
  "nbformat_minor": 0,
  "metadata": {
    "colab": {
      "name": "Final_Anchor_Iris.ipynb",
      "provenance": [],
      "collapsed_sections": []
    },
    "kernelspec": {
      "name": "python3",
      "display_name": "Python 3"
    }
  },
  "cells": [
    {
      "cell_type": "code",
      "metadata": {
        "id": "hDUjoWmUUc9c"
      },
      "source": [
        "try:\n",
        "  import alibi\n",
        "except:\n",
        "  !pip install alibi\n",
        "  import alibi\n",
        "import numpy as np\n",
        "from sklearn.datasets import load_iris\n",
        "from sklearn.ensemble import RandomForestClassifier\n",
        "from alibi.explainers import AnchorTabular\n",
        "from sklearn.model_selection import train_test_split\n",
        "from sklearn.neighbors import KNeighborsClassifier\n",
        "import numpy as np"
      ],
      "execution_count": 1,
      "outputs": []
    },
    {
      "cell_type": "code",
      "metadata": {
        "id": "OQbdiFNlUuSD"
      },
      "source": [
        "#load data\n",
        "dataset = load_iris()\n",
        "feature_names = dataset.feature_names\n",
        "class_names = list(dataset.target_names)"
      ],
      "execution_count": 2,
      "outputs": []
    },
    {
      "cell_type": "code",
      "metadata": {
        "colab": {
          "base_uri": "https://localhost:8080/"
        },
        "id": "hz23RmHndlmp",
        "outputId": "73325004-1f28-4fc5-954d-bfad9be42fd0"
      },
      "source": [
        "X_train, X_test, y_train,y_test =train_test_split(dataset['data'],dataset['target'] ,random_state=0)\n",
        "\n",
        "#KNN model fit\n",
        "knn = KNeighborsClassifier(n_neighbors=1)\n",
        "knn.fit(X_train,y_train)\n",
        "\n",
        "test_scores=knn.score(X_test,y_test)\n",
        "print('Accuracy: {:.2f}%'.format(test_scores))\n",
        "\n",
        "#Anchor explainer. Needs the predict function of the model\n",
        "explainer = AnchorTabular(knn.predict_proba, feature_names)\n",
        "explainer.fit(X_train)"
      ],
      "execution_count": 3,
      "outputs": [
        {
          "output_type": "stream",
          "text": [
            "Accuracy: 0.97%\n"
          ],
          "name": "stdout"
        },
        {
          "output_type": "execute_result",
          "data": {
            "text/plain": [
              "AnchorTabular(meta={\n",
              "  'name': 'AnchorTabular',\n",
              "  'type': ['blackbox'],\n",
              "  'explanations': ['local'],\n",
              "  'params': {'disc_perc': (25, 50, 75), 'seed': None}}\n",
              ")"
            ]
          },
          "metadata": {
            "tags": []
          },
          "execution_count": 3
        }
      ]
    },
    {
      "cell_type": "code",
      "metadata": {
        "colab": {
          "base_uri": "https://localhost:8080/"
        },
        "id": "GAL4eUQjfWZt",
        "outputId": "25957c91-8364-4297-df6d-190a85e1aa83"
      },
      "source": [
        "#Predict a test sample\n",
        "idx=35\n",
        "X_new= X_test[idx].reshape(1,-1)\n",
        "prediction= knn.predict(X_new)\n",
        "\n",
        "print('Prediction: ', class_names[explainer.predictor(X_new)[0]])\n",
        "print('Real: ',class_names[y_test[idx]])\n",
        "print('Features:',feature_names[0],'=',X_new[0][0],\" \",feature_names[1],'=',X_new[0][1],\" \",feature_names[2],'=',X_new[0][2],\" \",feature_names[3],'=',X_new[0][3],\"\\n\\n \")\n",
        "\n",
        "#explanation of the sample 75% precision threshold\n",
        "explanation = explainer.explain(X_test[idx], threshold=0.75)\n",
        "\n",
        "print('Explanation')\n",
        "print('Anchor: %s' % (' AND '.join(explanation.anchor)))\n",
        "print('Precision: %.2f' % explanation.precision)\n",
        "print('Coverage: %.2f' % explanation.coverage)\n"
      ],
      "execution_count": 4,
      "outputs": [
        {
          "output_type": "stream",
          "text": [
            "Prediction:  versicolor\n",
            "Real:  versicolor\n",
            "Features: sepal length (cm) = 5.2   sepal width (cm) = 2.7   petal length (cm) = 3.9   petal width (cm) = 1.4 \n",
            "\n",
            " \n",
            "Explanation\n",
            "Anchor: 1.58 < petal length (cm) <= 4.25 AND sepal width (cm) <= 2.80 AND sepal length (cm) > 5.10\n",
            "Precision: 0.76\n",
            "Coverage: 0.10\n"
          ],
          "name": "stdout"
        }
      ]
    },
    {
      "cell_type": "code",
      "metadata": {
        "colab": {
          "base_uri": "https://localhost:8080/"
        },
        "id": "RFuDn42ReRgE",
        "outputId": "95f17746-5c92-4ad7-b016-3102698820f0"
      },
      "source": [
        "\n",
        "idx=25\n",
        "X_new= X_test[idx].reshape(1,-1)\n",
        "prediction= knn.predict(X_new)\n",
        "\n",
        "print('Prediction: ', class_names[explainer.predictor(X_new)[0]])\n",
        "print('Real: ',class_names[y_test[idx]])\n",
        "print('Features:',feature_names[0],'=',X_new[0][0],\" \",feature_names[1],'=',X_new[0][1],\" \",feature_names[2],'=',X_new[0][2],\" \",feature_names[3],'=',X_new[0][3],\"\\n\\n\")\n",
        "\n",
        "explanation = explainer.explain(X_test[idx], threshold=0.75)\n",
        "\n",
        "print('Explanation')\n",
        "print('Anchor: %s' % (' AND '.join(explanation.anchor)))\n",
        "print('Precision: %.2f' % explanation.precision)\n",
        "print('Coverage: %.2f' % explanation.coverage)\n"
      ],
      "execution_count": 5,
      "outputs": [
        {
          "output_type": "stream",
          "text": [
            "Prediction:  setosa\n",
            "Real:  setosa\n",
            "Features: sepal length (cm) = 4.6   sepal width (cm) = 3.6   petal length (cm) = 1.0   petal width (cm) = 0.2 \n",
            "\n",
            "\n",
            "Explanation\n",
            "Anchor: petal length (cm) <= 1.58\n",
            "Precision: 1.00\n",
            "Coverage: 0.25\n"
          ],
          "name": "stdout"
        }
      ]
    },
    {
      "cell_type": "code",
      "metadata": {
        "colab": {
          "base_uri": "https://localhost:8080/"
        },
        "id": "JOle55K6A0GA",
        "outputId": "445334ae-caf6-47fe-f797-60588e843d4b"
      },
      "source": [
        "idx=20\n",
        "X_new= X_test[idx].reshape(1,-1)\n",
        "prediction= knn.predict(X_new)\n",
        "\n",
        "print('Prediction: ', class_names[explainer.predictor(X_new)[0]])\n",
        "print('Real: ',class_names[y_test[idx]])\n",
        "print('Features:',feature_names[0],'=',X_new[0][0],\" \",feature_names[1],'=',X_new[0][1],\" \",feature_names[2],'=',X_new[0][2],\" \",feature_names[3],'=',X_new[0][3],\"\\n\\n \")\n",
        "\n",
        "explanation = explainer.explain(X_test[idx], threshold=0.75)\n",
        "\n",
        "print('Explanation')\n",
        "print('Anchor: %s' % (' AND '.join(explanation.anchor)))\n",
        "print('Precision: %.2f' % explanation.precision)\n",
        "print('Coverage: %.2f' % explanation.coverage)"
      ],
      "execution_count": 6,
      "outputs": [
        {
          "output_type": "stream",
          "text": [
            "Prediction:  virginica\n",
            "Real:  virginica\n",
            "Features: sepal length (cm) = 5.6   sepal width (cm) = 2.8   petal length (cm) = 4.9   petal width (cm) = 2.0 \n",
            "\n",
            " \n",
            "Explanation\n",
            "Anchor: petal length (cm) > 4.25 AND petal width (cm) > 1.90\n",
            "Precision: 0.95\n",
            "Coverage: 0.22\n"
          ],
          "name": "stdout"
        }
      ]
    }
  ]
}