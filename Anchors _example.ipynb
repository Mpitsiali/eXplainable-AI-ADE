{
  "nbformat": 4,
  "nbformat_minor": 0,
  "metadata": {
    "colab": {
      "name": "Copy of XGBOOST_Anchors_diabetes.ipynb",
      "provenance": [],
      "collapsed_sections": []
    },
    "kernelspec": {
      "name": "python3",
      "display_name": "Python 3"
    }
  },
  "cells": [
    {
      "cell_type": "code",
      "metadata": {
        "id": "ZNpoE5JdIvdh"
      },
      "source": [
        "import pandas as pd\n",
        "import matplotlib.pyplot as plt\n",
        "import numpy as np"
      ],
      "execution_count": 60,
      "outputs": []
    },
    {
      "cell_type": "markdown",
      "metadata": {
        "id": "gDXtdUiqWDSG"
      },
      "source": [
        "Data preprocessing\n"
      ]
    },
    {
      "cell_type": "code",
      "metadata": {
        "id": "9yD6ypYmJf0w"
      },
      "source": [
        "#load dataset\n",
        "data = pd.read_csv(\"pima-diabetes.csv\")"
      ],
      "execution_count": 61,
      "outputs": []
    },
    {
      "cell_type": "code",
      "metadata": {
        "colab": {
          "base_uri": "https://localhost:8080/",
          "height": 359
        },
        "id": "plhbRyeSd1Qv",
        "outputId": "1778a643-f1ac-4bdf-9895-28770bb7d752"
      },
      "source": [
        "data.head(10)"
      ],
      "execution_count": 62,
      "outputs": [
        {
          "output_type": "execute_result",
          "data": {
            "text/html": [
              "<div>\n",
              "<style scoped>\n",
              "    .dataframe tbody tr th:only-of-type {\n",
              "        vertical-align: middle;\n",
              "    }\n",
              "\n",
              "    .dataframe tbody tr th {\n",
              "        vertical-align: top;\n",
              "    }\n",
              "\n",
              "    .dataframe thead th {\n",
              "        text-align: right;\n",
              "    }\n",
              "</style>\n",
              "<table border=\"1\" class=\"dataframe\">\n",
              "  <thead>\n",
              "    <tr style=\"text-align: right;\">\n",
              "      <th></th>\n",
              "      <th>num_preg</th>\n",
              "      <th>glucose_conc</th>\n",
              "      <th>diastolic_bp</th>\n",
              "      <th>thickness</th>\n",
              "      <th>insulin</th>\n",
              "      <th>bmi</th>\n",
              "      <th>diab_pred</th>\n",
              "      <th>age</th>\n",
              "      <th>skin</th>\n",
              "      <th>diabetes</th>\n",
              "    </tr>\n",
              "  </thead>\n",
              "  <tbody>\n",
              "    <tr>\n",
              "      <th>0</th>\n",
              "      <td>6</td>\n",
              "      <td>148</td>\n",
              "      <td>72</td>\n",
              "      <td>35</td>\n",
              "      <td>0</td>\n",
              "      <td>33.6</td>\n",
              "      <td>0.627</td>\n",
              "      <td>50</td>\n",
              "      <td>1.3790</td>\n",
              "      <td>True</td>\n",
              "    </tr>\n",
              "    <tr>\n",
              "      <th>1</th>\n",
              "      <td>1</td>\n",
              "      <td>85</td>\n",
              "      <td>66</td>\n",
              "      <td>29</td>\n",
              "      <td>0</td>\n",
              "      <td>26.6</td>\n",
              "      <td>0.351</td>\n",
              "      <td>31</td>\n",
              "      <td>1.1426</td>\n",
              "      <td>False</td>\n",
              "    </tr>\n",
              "    <tr>\n",
              "      <th>2</th>\n",
              "      <td>8</td>\n",
              "      <td>183</td>\n",
              "      <td>64</td>\n",
              "      <td>0</td>\n",
              "      <td>0</td>\n",
              "      <td>23.3</td>\n",
              "      <td>0.672</td>\n",
              "      <td>32</td>\n",
              "      <td>0.0000</td>\n",
              "      <td>True</td>\n",
              "    </tr>\n",
              "    <tr>\n",
              "      <th>3</th>\n",
              "      <td>1</td>\n",
              "      <td>89</td>\n",
              "      <td>66</td>\n",
              "      <td>23</td>\n",
              "      <td>94</td>\n",
              "      <td>28.1</td>\n",
              "      <td>0.167</td>\n",
              "      <td>21</td>\n",
              "      <td>0.9062</td>\n",
              "      <td>False</td>\n",
              "    </tr>\n",
              "    <tr>\n",
              "      <th>4</th>\n",
              "      <td>0</td>\n",
              "      <td>137</td>\n",
              "      <td>40</td>\n",
              "      <td>35</td>\n",
              "      <td>168</td>\n",
              "      <td>43.1</td>\n",
              "      <td>2.288</td>\n",
              "      <td>33</td>\n",
              "      <td>1.3790</td>\n",
              "      <td>True</td>\n",
              "    </tr>\n",
              "    <tr>\n",
              "      <th>5</th>\n",
              "      <td>5</td>\n",
              "      <td>116</td>\n",
              "      <td>74</td>\n",
              "      <td>0</td>\n",
              "      <td>0</td>\n",
              "      <td>25.6</td>\n",
              "      <td>0.201</td>\n",
              "      <td>30</td>\n",
              "      <td>0.0000</td>\n",
              "      <td>False</td>\n",
              "    </tr>\n",
              "    <tr>\n",
              "      <th>6</th>\n",
              "      <td>3</td>\n",
              "      <td>78</td>\n",
              "      <td>50</td>\n",
              "      <td>32</td>\n",
              "      <td>88</td>\n",
              "      <td>31.0</td>\n",
              "      <td>0.248</td>\n",
              "      <td>26</td>\n",
              "      <td>1.2608</td>\n",
              "      <td>True</td>\n",
              "    </tr>\n",
              "    <tr>\n",
              "      <th>7</th>\n",
              "      <td>10</td>\n",
              "      <td>115</td>\n",
              "      <td>0</td>\n",
              "      <td>0</td>\n",
              "      <td>0</td>\n",
              "      <td>35.3</td>\n",
              "      <td>0.134</td>\n",
              "      <td>29</td>\n",
              "      <td>0.0000</td>\n",
              "      <td>False</td>\n",
              "    </tr>\n",
              "    <tr>\n",
              "      <th>8</th>\n",
              "      <td>2</td>\n",
              "      <td>197</td>\n",
              "      <td>70</td>\n",
              "      <td>45</td>\n",
              "      <td>543</td>\n",
              "      <td>30.5</td>\n",
              "      <td>0.158</td>\n",
              "      <td>53</td>\n",
              "      <td>1.7730</td>\n",
              "      <td>True</td>\n",
              "    </tr>\n",
              "    <tr>\n",
              "      <th>9</th>\n",
              "      <td>8</td>\n",
              "      <td>125</td>\n",
              "      <td>96</td>\n",
              "      <td>0</td>\n",
              "      <td>0</td>\n",
              "      <td>0.0</td>\n",
              "      <td>0.232</td>\n",
              "      <td>54</td>\n",
              "      <td>0.0000</td>\n",
              "      <td>True</td>\n",
              "    </tr>\n",
              "  </tbody>\n",
              "</table>\n",
              "</div>"
            ],
            "text/plain": [
              "   num_preg  glucose_conc  diastolic_bp  ...  age    skin  diabetes\n",
              "0         6           148            72  ...   50  1.3790      True\n",
              "1         1            85            66  ...   31  1.1426     False\n",
              "2         8           183            64  ...   32  0.0000      True\n",
              "3         1            89            66  ...   21  0.9062     False\n",
              "4         0           137            40  ...   33  1.3790      True\n",
              "5         5           116            74  ...   30  0.0000     False\n",
              "6         3            78            50  ...   26  1.2608      True\n",
              "7        10           115             0  ...   29  0.0000     False\n",
              "8         2           197            70  ...   53  1.7730      True\n",
              "9         8           125            96  ...   54  0.0000      True\n",
              "\n",
              "[10 rows x 10 columns]"
            ]
          },
          "metadata": {
            "tags": []
          },
          "execution_count": 62
        }
      ]
    },
    {
      "cell_type": "code",
      "metadata": {
        "id": "HiVo6O7kKnbi",
        "colab": {
          "base_uri": "https://localhost:8080/"
        },
        "outputId": "b3c87988-9cac-4343-a53c-66a2d2165f82"
      },
      "source": [
        "# mapping True diabetes prediction to 1\n",
        "# mapping False diabetes prediction to 0\n",
        "diabetes_map= {True:1, False:0}\n",
        "data['diabetes']=data['diabetes'].map(diabetes_map)\n",
        "print(data['diabetes'])\n"
      ],
      "execution_count": 63,
      "outputs": [
        {
          "output_type": "stream",
          "text": [
            "0      1\n",
            "1      0\n",
            "2      1\n",
            "3      0\n",
            "4      1\n",
            "      ..\n",
            "763    0\n",
            "764    0\n",
            "765    0\n",
            "766    1\n",
            "767    0\n",
            "Name: diabetes, Length: 768, dtype: int64\n"
          ],
          "name": "stdout"
        }
      ]
    },
    {
      "cell_type": "code",
      "metadata": {
        "colab": {
          "base_uri": "https://localhost:8080/"
        },
        "id": "iwxp0fJMLuW_",
        "outputId": "b6f3a01b-c8ae-4d83-88d0-42764fecaa3d"
      },
      "source": [
        "data.isnull().values.any()  #no null values"
      ],
      "execution_count": 64,
      "outputs": [
        {
          "output_type": "execute_result",
          "data": {
            "text/plain": [
              "False"
            ]
          },
          "metadata": {
            "tags": []
          },
          "execution_count": 64
        }
      ]
    },
    {
      "cell_type": "code",
      "metadata": {
        "id": "yYVP5S9EMTjM",
        "colab": {
          "base_uri": "https://localhost:8080/"
        },
        "outputId": "0295a791-55b0-4f8d-c710-00e9db3aebac"
      },
      "source": [
        "diabetes_true_count=len(data.loc[data['diabetes']==True])\n",
        "diabetes_false_count=len(data.loc[data['diabetes']==False])\n",
        "(diabetes_true_count,diabetes_false_count)"
      ],
      "execution_count": 65,
      "outputs": [
        {
          "output_type": "execute_result",
          "data": {
            "text/plain": [
              "(268, 500)"
            ]
          },
          "metadata": {
            "tags": []
          },
          "execution_count": 65
        }
      ]
    },
    {
      "cell_type": "code",
      "metadata": {
        "id": "uP0LfvOnMx2F"
      },
      "source": [
        "from sklearn.model_selection import train_test_split\n",
        "\n",
        "feature_columns=['num_preg',\t'glucose_conc',\t'diastolic_bp',\t'thickness',\t'insulin',\t'bmi',\t'diab_pred',\t'age',\t'skin' ]\n",
        "predicted_class=['diabetes']"
      ],
      "execution_count": 66,
      "outputs": []
    },
    {
      "cell_type": "code",
      "metadata": {
        "id": "UjZ_7yEEMx92"
      },
      "source": [
        "X = data[feature_columns].values\n",
        "y= data[predicted_class].values\n",
        "\n",
        "\n",
        "X_train,X_test,y_train,y_test= train_test_split(X,y,test_size=0.30, random_state=10)"
      ],
      "execution_count": 67,
      "outputs": []
    },
    {
      "cell_type": "code",
      "metadata": {
        "id": "gr2l--0ROT-Z",
        "colab": {
          "base_uri": "https://localhost:8080/"
        },
        "outputId": "7ef39e18-fb29-434c-f647-6270a342481e"
      },
      "source": [
        "\n",
        "print(\"total number of rows : {0}\".format(len(data)))\n",
        "print(\"number of rows missing glucose_conc: {0}\".format(len(data.loc[data['glucose_conc'] == 0])))\n",
        "print(\"number of rows missing glucose_conc: {0}\".format(len(data.loc[data['glucose_conc'] == 0])))\n",
        "print(\"number of rows missing diastolic_bp: {0}\".format(len(data.loc[data['diastolic_bp'] == 0])))\n",
        "print(\"number of rows missing insulin: {0}\".format(len(data.loc[data['insulin'] == 0])))\n",
        "print(\"number of rows missing bmi: {0}\".format(len(data.loc[data['bmi'] == 0])))\n",
        "print(\"number of rows missing diab_pred: {0}\".format(len(data.loc[data['diab_pred'] == 0])))\n",
        "print(\"number of rows missing age: {0}\".format(len(data.loc[data['age'] == 0])))\n",
        "print(\"number of rows missing skin: {0}\".format(len(data.loc[data['skin'] == 0])))"
      ],
      "execution_count": 68,
      "outputs": [
        {
          "output_type": "stream",
          "text": [
            "total number of rows : 768\n",
            "number of rows missing glucose_conc: 5\n",
            "number of rows missing glucose_conc: 5\n",
            "number of rows missing diastolic_bp: 35\n",
            "number of rows missing insulin: 374\n",
            "number of rows missing bmi: 11\n",
            "number of rows missing diab_pred: 0\n",
            "number of rows missing age: 0\n",
            "number of rows missing skin: 227\n"
          ],
          "name": "stdout"
        }
      ]
    },
    {
      "cell_type": "code",
      "metadata": {
        "id": "z19cf---OUCO"
      },
      "source": [
        "#this is to deal with the zero values\n",
        "from sklearn.impute import SimpleImputer\n",
        "fill_values= SimpleImputer(missing_values=0,strategy=\"mean\")\n",
        "\n",
        "X_train= fill_values.fit_transform(X_train)\n",
        "X_test= fill_values.fit_transform(X_test)"
      ],
      "execution_count": 69,
      "outputs": []
    },
    {
      "cell_type": "code",
      "metadata": {
        "id": "VgQMrRsRRvp_"
      },
      "source": [
        "classifier=xgboost.XGBClassifier()"
      ],
      "execution_count": 70,
      "outputs": []
    },
    {
      "cell_type": "code",
      "metadata": {
        "id": "jZ53TZxRUH4d"
      },
      "source": [
        "\n",
        "classifier=xgboost.XGBClassifier(base_score=0.5, booster='gbtree', colsample_bylevel=1,\n",
        "              colsample_bynode=1, colsample_bytree=0.3, gamma=0.4,\n",
        "              learning_rate=0.2, max_delta_step=0, max_depth=15,\n",
        "              min_child_weight=5, missing=None, n_estimators=100, n_jobs=1,\n",
        "              nthread=None, objective='binary:logistic', random_state=0,\n",
        "              reg_alpha=0, reg_lambda=1, scale_pos_weight=1, seed=None,\n",
        "              silent=None, subsample=1, verbosity=1)"
      ],
      "execution_count": 71,
      "outputs": []
    },
    {
      "cell_type": "code",
      "metadata": {
        "id": "k7HRxyK_VXxX",
        "colab": {
          "base_uri": "https://localhost:8080/"
        },
        "outputId": "078e394d-c659-43cd-e780-bf65dac3fee0"
      },
      "source": [
        "classifier.fit(X_train,y_train.ravel())"
      ],
      "execution_count": 72,
      "outputs": [
        {
          "output_type": "execute_result",
          "data": {
            "text/plain": [
              "XGBClassifier(base_score=0.5, booster='gbtree', colsample_bylevel=1,\n",
              "              colsample_bynode=1, colsample_bytree=0.3, gamma=0.4,\n",
              "              learning_rate=0.2, max_delta_step=0, max_depth=15,\n",
              "              min_child_weight=5, missing=None, n_estimators=100, n_jobs=1,\n",
              "              nthread=None, objective='binary:logistic', random_state=0,\n",
              "              reg_alpha=0, reg_lambda=1, scale_pos_weight=1, seed=None,\n",
              "              silent=None, subsample=1, verbosity=1)"
            ]
          },
          "metadata": {
            "tags": []
          },
          "execution_count": 72
        }
      ]
    },
    {
      "cell_type": "code",
      "metadata": {
        "id": "78f3MoPyUOvS"
      },
      "source": [
        "y_pred=classifier.predict(X_test)"
      ],
      "execution_count": 73,
      "outputs": []
    },
    {
      "cell_type": "code",
      "metadata": {
        "colab": {
          "base_uri": "https://localhost:8080/"
        },
        "id": "55dCdYiT2QAq",
        "outputId": "53140951-57f7-4999-8172-29234d667ed9"
      },
      "source": [
        "print(classification_report(y_test, y_pred))"
      ],
      "execution_count": 74,
      "outputs": [
        {
          "output_type": "stream",
          "text": [
            "              precision    recall  f1-score   support\n",
            "\n",
            "           0       0.76      0.77      0.77       144\n",
            "           1       0.61      0.60      0.60        87\n",
            "\n",
            "    accuracy                           0.71       231\n",
            "   macro avg       0.69      0.68      0.69       231\n",
            "weighted avg       0.70      0.71      0.70       231\n",
            "\n"
          ],
          "name": "stdout"
        }
      ]
    },
    {
      "cell_type": "code",
      "metadata": {
        "colab": {
          "base_uri": "https://localhost:8080/",
          "height": 314
        },
        "id": "4E95jUhv2P59",
        "outputId": "a185eb48-f222-4893-90ae-9582bc210646"
      },
      "source": [
        "from sklearn.metrics import accuracy_score, confusion_matrix, classification_report,plot_confusion_matrix\n",
        "cm= confusion_matrix(y_test,y_pred)\n",
        "score=accuracy_score(y_test,y_pred)\n",
        "print(cm)\n",
        "plot_confusion_matrix(classifier, X_test, y_test,cmap='Greens')  \n",
        "plt.show()"
      ],
      "execution_count": 75,
      "outputs": [
        {
          "output_type": "stream",
          "text": [
            "[[111  33]\n",
            " [ 35  52]]\n"
          ],
          "name": "stdout"
        },
        {
          "output_type": "display_data",
          "data": {
            "image/png": "[encoded data removed]",
            "text/plain": [
              "<Figure size 432x288 with 2 Axes>"
            ]
          },
          "metadata": {
            "tags": [],
            "needs_background": "light"
          }
        }
      ]
    },
    {
      "cell_type": "code",
      "metadata": {
        "id": "G5VjOFeUUOoR",
        "colab": {
          "base_uri": "https://localhost:8080/"
        },
        "outputId": "d33e8f74-3c9a-42b9-adf7-d4c2b4242de4"
      },
      "source": [
        "print('{:.2f}%'.format(score_cross_val.mean()*100))"
      ],
      "execution_count": 76,
      "outputs": [
        {
          "output_type": "stream",
          "text": [
            "75.41%\n"
          ],
          "name": "stdout"
        }
      ]
    },
    {
      "cell_type": "code",
      "metadata": {
        "id": "5Ne3ekmKXpGN"
      },
      "source": [
        "try:\n",
        "  import alibi\n",
        "except:\n",
        "\n",
        "  !pip install alibi \n",
        "  import alibi\n"
      ],
      "execution_count": 77,
      "outputs": []
    },
    {
      "cell_type": "markdown",
      "metadata": {
        "id": "FB-5bFEwRZyq"
      },
      "source": [
        "Alibi is an open source Python library aimed at machine learning model inspection and interpretation. The focus of the library is to provide high-quality implementations of black-box, white-box, local and global explanation methods for classification and regression models.\n",
        "Alibi contains many explainers such as Anchors"
      ]
    },
    {
      "cell_type": "code",
      "metadata": {
        "id": "cuuHftVSeHO5",
        "colab": {
          "base_uri": "https://localhost:8080/"
        },
        "outputId": "bb3c5dec-bc5c-419c-a240-07047c84d24f"
      },
      "source": [
        "from alibi.explainers import AnchorTabular\n",
        "\n",
        "\n",
        "#lambda function to predict the instance we want using xgboost classifier\n",
        "predict_fn = lambda x: classifier.predict_proba(x)\n",
        "\n",
        "#Create an explainer, give as arguements the prediction function and name of the features\n",
        "explainer = AnchorTabular(predict_fn, feature_columns)\n",
        "#train the explainer\n",
        "explainer.fit(X_train)\n",
        "\n",
        "\n",
        "\n",
        "class_names= ['Not Diabetic', 'Diabetic']\n",
        "\n",
        "idx = 49\n",
        "#use the explaine.predictor to predict the result \n",
        "predicted=y[explainer.predictor(X_test[idx].reshape(1, -1))[0]]\n",
        "print(predicted)# predicted 0 which means is the Not diabetic class\n",
        "\n",
        "print('Prediction: ',class_names[predicted[0]] )\n",
        "\n",
        "#now we use the explainer to explain an test instance. And the threshold of the precision is 95%\n",
        "explanation = explainer.explain(X_test[idx], threshold=0.95)\n",
        "\n",
        "print('Anchor: %s' % (' AND '.join(explanation.anchor)))\n",
        "print('Precision: %.2f' % explanation.precision)\n",
        "print('Coverage: %.2f' % explanation.coverage)"
      ],
      "execution_count": 79,
      "outputs": [
        {
          "output_type": "stream",
          "text": [
            "\n",
            "[0]\n",
            "Prediction:  Not Diabetic\n",
            "Anchor: glucose_conc > 117.00 AND age > 29.00 AND diab_pred > 0.60 AND num_preg > 2.00 AND skin > 1.14 AND 115.00 < insulin <= 159.97\n",
            "Precision: 0.96\n",
            "Coverage: 0.01\n"
          ],
          "name": "stdout"
        }
      ]
    }
  ]
}